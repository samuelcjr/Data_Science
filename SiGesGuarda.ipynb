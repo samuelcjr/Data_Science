{
  "nbformat": 4,
  "nbformat_minor": 0,
  "metadata": {
    "colab": {
      "name": "SiGesGuarda.ipynb",
      "provenance": [],
      "collapsed_sections": [],
      "toc_visible": true,
      "authorship_tag": "ABX9TyMBBLQ1ulnIW2EIj1NCmxWW",
      "include_colab_link": true
    },
    "kernelspec": {
      "name": "python3",
      "display_name": "Python 3"
    }
  },
  "cells": [
    {
      "cell_type": "markdown",
      "metadata": {
        "id": "view-in-github",
        "colab_type": "text"
      },
      "source": [
        "<a href=\"https://colab.research.google.com/github/samuelcjr/Data_Science/blob/master/SiGesGuarda.ipynb\" target=\"_parent\"><img src=\"https://colab.research.google.com/assets/colab-badge.svg\" alt=\"Open In Colab\"/></a>"
      ]
    },
    {
      "cell_type": "markdown",
      "metadata": {
        "id": "E5rPuv9a5qMM",
        "colab_type": "text"
      },
      "source": [
        "###Base contendo os dados das ocorrências atendidas pela Guarda Municipal de Curitiba.\n",
        "\n",
        "#####[link](https://www.curitiba.pr.gov.br/dadosabertos/busca/?grupo=12)\n",
        "\n",
        "\n",
        "\n"
      ]
    },
    {
      "cell_type": "code",
      "metadata": {
        "id": "PxpFOtFd5i_z",
        "colab_type": "code",
        "colab": {}
      },
      "source": [
        "# importando as bibliotecas\n",
        "import pandas as pd\n",
        " \n",
        "# gerando um dataframe (df) usando o arquivo em .csv\n",
        "df = pd.read_csv('/content/sigesguarda.csv',sep=';',encoding='latin-1',low_memory=False)"
      ],
      "execution_count": 0,
      "outputs": []
    },
    {
      "cell_type": "markdown",
      "metadata": {
        "id": "mZBhS2BL9UcJ",
        "colab_type": "text"
      },
      "source": [
        "###Iniciando a Análise dos Dados"
      ]
    },
    {
      "cell_type": "code",
      "metadata": {
        "id": "3N2s3-EX9d1S",
        "colab_type": "code",
        "outputId": "9b98fe65-6acb-48e1-d013-0e24e67ae3d5",
        "colab": {
          "base_uri": "https://localhost:8080/",
          "height": 34
        }
      },
      "source": [
        "# verificando o número de linhas (ocorrências registradas) e colunas do dataframe\n",
        "df.shape"
      ],
      "execution_count": 0,
      "outputs": [
        {
          "output_type": "execute_result",
          "data": {
            "text/plain": [
              "(280903, 35)"
            ]
          },
          "metadata": {
            "tags": []
          },
          "execution_count": 14
        }
      ]
    },
    {
      "cell_type": "code",
      "metadata": {
        "id": "dsKJNbUX98lH",
        "colab_type": "code",
        "outputId": "2d96271f-f7e6-4493-e586-8f4e8a72153c",
        "colab": {
          "base_uri": "https://localhost:8080/",
          "height": 366
        }
      },
      "source": [
        "# verificando a disposição dos dados (5 primeiras linhas)\n",
        "df.head()"
      ],
      "execution_count": 0,
      "outputs": [
        {
          "output_type": "execute_result",
          "data": {
            "text/html": [
              "<div>\n",
              "<style scoped>\n",
              "    .dataframe tbody tr th:only-of-type {\n",
              "        vertical-align: middle;\n",
              "    }\n",
              "\n",
              "    .dataframe tbody tr th {\n",
              "        vertical-align: top;\n",
              "    }\n",
              "\n",
              "    .dataframe thead th {\n",
              "        text-align: right;\n",
              "    }\n",
              "</style>\n",
              "<table border=\"1\" class=\"dataframe\">\n",
              "  <thead>\n",
              "    <tr style=\"text-align: right;\">\n",
              "      <th></th>\n",
              "      <th>ATENDIMENTO_ANO</th>\n",
              "      <th>ATENDIMENTO_BAIRRO_NOME</th>\n",
              "      <th>EQUIPAMENTO_URBANO_NOME</th>\n",
              "      <th>FLAG_EQUIPAMENTO_URBANO</th>\n",
              "      <th>FLAG_FLAGRANTE</th>\n",
              "      <th>LOGRADOURO_NOME</th>\n",
              "      <th>NATUREZA1_DEFESA_CIVIL</th>\n",
              "      <th>NATUREZA1_DESCRICAO</th>\n",
              "      <th>NATUREZA2_DEFESA_CIVIL</th>\n",
              "      <th>NATUREZA2_DESCRICAO</th>\n",
              "      <th>NATUREZA3_DEFESA_CIVIL</th>\n",
              "      <th>NATUREZA3_DESCRICAO</th>\n",
              "      <th>NATUREZA4_DEFESA_CIVIL</th>\n",
              "      <th>NATUREZA4_DESCRICAO</th>\n",
              "      <th>NATUREZA5_DEFESA_CIVIL</th>\n",
              "      <th>NATUREZA5_DESCRICAO</th>\n",
              "      <th>SUBCATEGORIA1_DESCRICAO</th>\n",
              "      <th>SUBCATEGORIA2_DESCRICAO</th>\n",
              "      <th>SUBCATEGORIA3_DESCRICAO</th>\n",
              "      <th>SUBCATEGORIA4_DESCRICAO</th>\n",
              "      <th>SUBCATEGORIA5_DESCRICAO</th>\n",
              "      <th>OCORRENCIA_ANO</th>\n",
              "      <th>OCORRENCIA_CODIGO</th>\n",
              "      <th>OCORRENCIA_DATA</th>\n",
              "      <th>OCORRENCIA_DIA_SEMANA</th>\n",
              "      <th>OCORRENCIA_HORA</th>\n",
              "      <th>OCORRENCIA_MES</th>\n",
              "      <th>OPERACAO_DESCRICAO</th>\n",
              "      <th>ORIGEM_CHAMADO_DESCRICAO</th>\n",
              "      <th>REGIONAL_FATO_NOME</th>\n",
              "      <th>SECRETARIA_NOME</th>\n",
              "      <th>SECRETARIA_SIGLA</th>\n",
              "      <th>SERVICO_NOME</th>\n",
              "      <th>SITUACAO_EQUIPE_DESCRICAO</th>\n",
              "      <th>NUMERO_PROTOCOLO_156</th>\n",
              "    </tr>\n",
              "  </thead>\n",
              "  <tbody>\n",
              "    <tr>\n",
              "      <th>0</th>\n",
              "      <td>---------------</td>\n",
              "      <td>-----------------------</td>\n",
              "      <td>----------------------------------------------...</td>\n",
              "      <td>-----------------------</td>\n",
              "      <td>--------------</td>\n",
              "      <td>----------------------------------------------...</td>\n",
              "      <td>----------------------</td>\n",
              "      <td>----------------------------------------------...</td>\n",
              "      <td>----------------------</td>\n",
              "      <td>----------------------------------------------...</td>\n",
              "      <td>----------------------</td>\n",
              "      <td>----------------------------------------------...</td>\n",
              "      <td>----------------------</td>\n",
              "      <td>----------------------------------------------...</td>\n",
              "      <td>----------------------</td>\n",
              "      <td>----------------------------------------------...</td>\n",
              "      <td>----------------------------------------------...</td>\n",
              "      <td>----------------------------------------------...</td>\n",
              "      <td>----------------------------------------------...</td>\n",
              "      <td>----------------------------------------------...</td>\n",
              "      <td>----------------------------------------------...</td>\n",
              "      <td>--------------</td>\n",
              "      <td>-----------------</td>\n",
              "      <td>-----------------------</td>\n",
              "      <td>---------------------</td>\n",
              "      <td>---------------</td>\n",
              "      <td>--------------</td>\n",
              "      <td>----------------------------------------------...</td>\n",
              "      <td>----------------------------------------------...</td>\n",
              "      <td>--------------------</td>\n",
              "      <td>----------------------------------------------...</td>\n",
              "      <td>----------------</td>\n",
              "      <td>----------------------------------------------...</td>\n",
              "      <td>----------------------------------------------...</td>\n",
              "      <td>--------------------</td>\n",
              "    </tr>\n",
              "    <tr>\n",
              "      <th>1</th>\n",
              "      <td>2009</td>\n",
              "      <td>CIDADE INDUSTRIAL</td>\n",
              "      <td>NaN</td>\n",
              "      <td>NÃO</td>\n",
              "      <td>NÃO</td>\n",
              "      <td>DAVI XAVIER DA SILVA</td>\n",
              "      <td>0</td>\n",
              "      <td>Alarmes</td>\n",
              "      <td>NaN</td>\n",
              "      <td>NaN</td>\n",
              "      <td>NaN</td>\n",
              "      <td>NaN</td>\n",
              "      <td>NaN</td>\n",
              "      <td>NaN</td>\n",
              "      <td>NaN</td>\n",
              "      <td>NaN</td>\n",
              "      <td>Disparo de Alarme (violação)</td>\n",
              "      <td>NaN</td>\n",
              "      <td>NaN</td>\n",
              "      <td>NaN</td>\n",
              "      <td>NaN</td>\n",
              "      <td>2009</td>\n",
              "      <td>1</td>\n",
              "      <td>2009-01-01 15:14:00.000</td>\n",
              "      <td>QUINTA</td>\n",
              "      <td>15:14:00</td>\n",
              "      <td>1</td>\n",
              "      <td>NaN</td>\n",
              "      <td>SIGA</td>\n",
              "      <td>CIC</td>\n",
              "      <td>FUNDAÇÃO DE AÇÃO SOCIAL</td>\n",
              "      <td>FAS</td>\n",
              "      <td>SIGA</td>\n",
              "      <td>NaN</td>\n",
              "      <td>NaN</td>\n",
              "    </tr>\n",
              "    <tr>\n",
              "      <th>2</th>\n",
              "      <td>2009</td>\n",
              "      <td>FAZENDINHA</td>\n",
              "      <td>BOSQUE DA FAZENDINHA</td>\n",
              "      <td>SIM</td>\n",
              "      <td>NÃO</td>\n",
              "      <td>CARLOS KLEMTZ</td>\n",
              "      <td>0</td>\n",
              "      <td>Roubo</td>\n",
              "      <td>NaN</td>\n",
              "      <td>NaN</td>\n",
              "      <td>NaN</td>\n",
              "      <td>NaN</td>\n",
              "      <td>NaN</td>\n",
              "      <td>NaN</td>\n",
              "      <td>NaN</td>\n",
              "      <td>NaN</td>\n",
              "      <td>Transeunte</td>\n",
              "      <td>NaN</td>\n",
              "      <td>NaN</td>\n",
              "      <td>NaN</td>\n",
              "      <td>NaN</td>\n",
              "      <td>2009</td>\n",
              "      <td>2</td>\n",
              "      <td>2009-01-01 15:22:00.000</td>\n",
              "      <td>QUINTA</td>\n",
              "      <td>15:22:00</td>\n",
              "      <td>1</td>\n",
              "      <td>NaN</td>\n",
              "      <td>153</td>\n",
              "      <td>PORTÃO</td>\n",
              "      <td>SECRETARIA MUNICIPAL MEIO AMBIENTE</td>\n",
              "      <td>SMMA</td>\n",
              "      <td>NORMAL</td>\n",
              "      <td>NaN</td>\n",
              "      <td>NaN</td>\n",
              "    </tr>\n",
              "    <tr>\n",
              "      <th>3</th>\n",
              "      <td>2009</td>\n",
              "      <td>UBERABA</td>\n",
              "      <td>NaN</td>\n",
              "      <td>NÃO</td>\n",
              "      <td>NÃO</td>\n",
              "      <td>DOUTOR JOÃO DE PAULA MOURA BRITO</td>\n",
              "      <td>0</td>\n",
              "      <td>Animais</td>\n",
              "      <td>NaN</td>\n",
              "      <td>NaN</td>\n",
              "      <td>NaN</td>\n",
              "      <td>NaN</td>\n",
              "      <td>NaN</td>\n",
              "      <td>NaN</td>\n",
              "      <td>NaN</td>\n",
              "      <td>NaN</td>\n",
              "      <td>Cão solto em via pública</td>\n",
              "      <td>NaN</td>\n",
              "      <td>NaN</td>\n",
              "      <td>NaN</td>\n",
              "      <td>NaN</td>\n",
              "      <td>2009</td>\n",
              "      <td>3</td>\n",
              "      <td>2009-01-01 15:59:00.000</td>\n",
              "      <td>QUINTA</td>\n",
              "      <td>15:59:00</td>\n",
              "      <td>1</td>\n",
              "      <td>NaN</td>\n",
              "      <td>156</td>\n",
              "      <td>CAJURU</td>\n",
              "      <td>SECRETARIA MUNICIPAL DA SAÚDE</td>\n",
              "      <td>SMS</td>\n",
              "      <td>SACAF</td>\n",
              "      <td>NaN</td>\n",
              "      <td>2640856</td>\n",
              "    </tr>\n",
              "    <tr>\n",
              "      <th>4</th>\n",
              "      <td>2009</td>\n",
              "      <td>SÍTIO CERCADO</td>\n",
              "      <td>NaN</td>\n",
              "      <td>NÃO</td>\n",
              "      <td>NÃO</td>\n",
              "      <td>EDGARD CAVALCANTI DE ALBUQUERQUE</td>\n",
              "      <td>0</td>\n",
              "      <td>Animais</td>\n",
              "      <td>NaN</td>\n",
              "      <td>NaN</td>\n",
              "      <td>NaN</td>\n",
              "      <td>NaN</td>\n",
              "      <td>NaN</td>\n",
              "      <td>NaN</td>\n",
              "      <td>NaN</td>\n",
              "      <td>NaN</td>\n",
              "      <td>Cão solto em via pública</td>\n",
              "      <td>NaN</td>\n",
              "      <td>NaN</td>\n",
              "      <td>NaN</td>\n",
              "      <td>NaN</td>\n",
              "      <td>2009</td>\n",
              "      <td>4</td>\n",
              "      <td>2009-01-01 16:13:00.000</td>\n",
              "      <td>QUINTA</td>\n",
              "      <td>16:13:00</td>\n",
              "      <td>1</td>\n",
              "      <td>NaN</td>\n",
              "      <td>156</td>\n",
              "      <td>BAIRRO NOVO</td>\n",
              "      <td>SECRETARIA MUNICIPAL DA SAÚDE</td>\n",
              "      <td>SMS</td>\n",
              "      <td>SACAF</td>\n",
              "      <td>NaN</td>\n",
              "      <td>2640854</td>\n",
              "    </tr>\n",
              "  </tbody>\n",
              "</table>\n",
              "</div>"
            ],
            "text/plain": [
              "   ATENDIMENTO_ANO  ...  NUMERO_PROTOCOLO_156\n",
              "0  ---------------  ...  --------------------\n",
              "1             2009  ...                   NaN\n",
              "2             2009  ...                   NaN\n",
              "3             2009  ...               2640856\n",
              "4             2009  ...               2640854\n",
              "\n",
              "[5 rows x 35 columns]"
            ]
          },
          "metadata": {
            "tags": []
          },
          "execution_count": 47
        }
      ]
    },
    {
      "cell_type": "code",
      "metadata": {
        "id": "v5s7zS_4BxrI",
        "colab_type": "code",
        "outputId": "4176e47e-e689-4e35-a1f3-3bfd66ee4ae2",
        "colab": {
          "base_uri": "https://localhost:8080/",
          "height": 269
        }
      },
      "source": [
        "# verificando os nomes das colunas utilizadas no dataframe\n",
        "df.columns"
      ],
      "execution_count": 0,
      "outputs": [
        {
          "output_type": "execute_result",
          "data": {
            "text/plain": [
              "Index(['ATENDIMENTO_ANO', 'ATENDIMENTO_BAIRRO_NOME', 'EQUIPAMENTO_URBANO_NOME',\n",
              "       'FLAG_EQUIPAMENTO_URBANO', 'FLAG_FLAGRANTE', 'LOGRADOURO_NOME',\n",
              "       'NATUREZA1_DEFESA_CIVIL', 'NATUREZA1_DESCRICAO',\n",
              "       'NATUREZA2_DEFESA_CIVIL', 'NATUREZA2_DESCRICAO',\n",
              "       'NATUREZA3_DEFESA_CIVIL', 'NATUREZA3_DESCRICAO',\n",
              "       'NATUREZA4_DEFESA_CIVIL', 'NATUREZA4_DESCRICAO',\n",
              "       'NATUREZA5_DEFESA_CIVIL', 'NATUREZA5_DESCRICAO',\n",
              "       'SUBCATEGORIA1_DESCRICAO', 'SUBCATEGORIA2_DESCRICAO',\n",
              "       'SUBCATEGORIA3_DESCRICAO', 'SUBCATEGORIA4_DESCRICAO',\n",
              "       'SUBCATEGORIA5_DESCRICAO', 'OCORRENCIA_ANO', 'OCORRENCIA_CODIGO',\n",
              "       'OCORRENCIA_DATA', 'OCORRENCIA_DIA_SEMANA', 'OCORRENCIA_HORA',\n",
              "       'OCORRENCIA_MES', 'OPERACAO_DESCRICAO', 'ORIGEM_CHAMADO_DESCRICAO',\n",
              "       'REGIONAL_FATO_NOME', 'SECRETARIA_NOME', 'SECRETARIA_SIGLA',\n",
              "       'SERVICO_NOME', 'SITUACAO_EQUIPE_DESCRICAO', 'NUMERO_PROTOCOLO_156'],\n",
              "      dtype='object')"
            ]
          },
          "metadata": {
            "tags": []
          },
          "execution_count": 77
        }
      ]
    },
    {
      "cell_type": "code",
      "metadata": {
        "id": "ZHY7VyyMCKna",
        "colab_type": "code",
        "outputId": "98e45057-3515-48ab-ecf1-5fb474c9f02e",
        "colab": {
          "base_uri": "https://localhost:8080/",
          "height": 326
        }
      },
      "source": [
        "# Analisando qual ano teve maior incidência de ocorrências (a base inicia em 2009)\n",
        "import seaborn as sns\n",
        "import matplotlib.pyplot as plt\n",
        "\n",
        "df['ATENDIMENTO_ANO'].value_counts()\n",
        "sns.countplot(df['ATENDIMENTO_ANO'])\n",
        "plt.xticks(rotation=90,horizontalalignment=\"left\")\n",
        "\n",
        "#salvando o gráfico gerado\n",
        "plt.savefig('grafico')\n"
      ],
      "execution_count": 0,
      "outputs": [
        {
          "output_type": "display_data",
          "data": {
            "image/png": "[encoded data removed]",
            "text/plain": [
              "<Figure size 432x288 with 1 Axes>"
            ]
          },
          "metadata": {
            "tags": [],
            "needs_background": "light"
          }
        }
      ]
    }
  ]
}